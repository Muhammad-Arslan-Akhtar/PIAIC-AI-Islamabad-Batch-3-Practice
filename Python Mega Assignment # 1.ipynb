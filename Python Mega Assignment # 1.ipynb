{
 "cells": [
  {
   "cell_type": "markdown",
   "metadata": {},
   "source": [
    "# Python Mega Assignment # 1"
   ]
  },
  {
   "cell_type": "markdown",
   "metadata": {},
   "source": [
    "## Muhammad Arslan Akhtar   (PIAIC61773)"
   ]
  },
  {
   "cell_type": "markdown",
   "metadata": {},
   "source": [
    " 1. Which of the following terms are related to dictionaries?\n",
    "    a. value \n",
    "    b. item \n",
    "    c. index \n",
    "    d. key"
   ]
  },
  {
   "cell_type": "markdown",
   "metadata": {},
   "source": [
    "Answer:"
   ]
  },
  {
   "cell_type": "markdown",
   "metadata": {},
   "source": [
    "    a. value \n",
    "    b. item \n",
    "    d. key"
   ]
  },
  {
   "cell_type": "markdown",
   "metadata": {},
   "source": [
    "2. Just like lists, + operator is used to extend dictionaries? \n",
    "    a. True \n",
    "    b. False "
   ]
  },
  {
   "cell_type": "markdown",
   "metadata": {},
   "source": [
    "Answer"
   ]
  },
  {
   "cell_type": "markdown",
   "metadata": {},
   "source": [
    "    b. False"
   ]
  },
  {
   "cell_type": "markdown",
   "metadata": {},
   "source": [
    "3. To access items from a dictionary, we specify the index of that item within [] like myDict[0]? \n",
    "    a. True \n",
    "    b. False "
   ]
  },
  {
   "cell_type": "markdown",
   "metadata": {},
   "source": [
    "Answer"
   ]
  },
  {
   "cell_type": "markdown",
   "metadata": {},
   "source": [
    "    a. False"
   ]
  },
  {
   "cell_type": "markdown",
   "metadata": {},
   "source": [
    "4. When we use [] to access the value from a dictionary which does not exist in that dictionary….? \n",
    "    a. Value within [] is added to the dictionary \n",
    "    b. Value None is returned \n",
    "    c. New dictionary is created\n",
    "    d. None of above"
   ]
  },
  {
   "cell_type": "markdown",
   "metadata": {},
   "source": [
    "Answer"
   ]
  },
  {
   "cell_type": "markdown",
   "metadata": {},
   "source": [
    "    d. None of above"
   ]
  },
  {
   "cell_type": "markdown",
   "metadata": {},
   "source": [
    "5. What does return the pop method of a dictionary? \n",
    "    a. list \n",
    "    b. tuple containing the pair of last item of the dictionary \n",
    "    c. dictionary \n",
    "    d. value of the key, if it exists in the dictionary"
   ]
  },
  {
   "cell_type": "markdown",
   "metadata": {},
   "source": [
    "Answer"
   ]
  },
  {
   "cell_type": "markdown",
   "metadata": {},
   "source": [
    "     c. dictionary "
   ]
  },
  {
   "cell_type": "markdown",
   "metadata": {},
   "source": [
    "6. What does return popitem method return? \n",
    "    a. dictionary \n",
    "    b. tupple containing the pair of last item of the dictionary  \n",
    "    c. list \n",
    "    d. value of key, if it exists in the dictionary"
   ]
  },
  {
   "cell_type": "markdown",
   "metadata": {},
   "source": [
    "Answer"
   ]
  },
  {
   "cell_type": "markdown",
   "metadata": {},
   "source": [
    "    a. dictionary "
   ]
  },
  {
   "cell_type": "markdown",
   "metadata": {},
   "source": [
    "7. Which of the following 2 methods can be used to iterate through the items of a dictionary? \n",
    "    a. items() \n",
    "    b. values() \n",
    "    c. indexes() \n",
    "    d. keys()"
   ]
  },
  {
   "cell_type": "markdown",
   "metadata": {},
   "source": [
    "Answer"
   ]
  },
  {
   "cell_type": "markdown",
   "metadata": {},
   "source": [
    "    a. items() \n",
    "    b. values() "
   ]
  },
  {
   "cell_type": "markdown",
   "metadata": {},
   "source": [
    "8. Which one of the following is used to enclose a dictionary? \n",
    "   a. () parenthesis \n",
    "    b. {} curly brackets \n",
    "    c. [] square brackets \n",
    "    d. “” quotation marks "
   ]
  },
  {
   "cell_type": "markdown",
   "metadata": {},
   "source": [
    "Answer"
   ]
  },
  {
   "cell_type": "markdown",
   "metadata": {},
   "source": [
    "    b. {} curly brackets "
   ]
  },
  {
   "cell_type": "markdown",
   "metadata": {},
   "source": [
    "9.  Write Python Program add key-value pair in dictionary and check if a Given Key or Value or Both Exists in a Dictionary or Not. "
   ]
  },
  {
   "cell_type": "markdown",
   "metadata": {},
   "source": [
    "Answer"
   ]
  },
  {
   "cell_type": "markdown",
   "metadata": {},
   "source": [
    "dictionary = {\n",
    "    \"Name\" : \"Arslan\",\n",
    "    \"course\" : \"A.I\"\n",
    "}\n",
    "keyval = input(\"Enter key or value \")\n",
    "\n",
    "x = dictionary.keys()\n",
    "\n",
    "y = dictionary.values()\n",
    "\n",
    "if keyval in x or keyval in y:\n",
    "    print(\"yes present\")\n",
    "else:m\n",
    "    print(\"not present\")\n"
   ]
  },
  {
   "cell_type": "markdown",
   "metadata": {},
   "source": [
    "10. Write a Python Program to Count the Frequency of Words Appearing in a String Using a Dictionary and print only the words having Even (divisible by 2) frequency. "
   ]
  },
  {
   "cell_type": "markdown",
   "metadata": {},
   "source": [
    "Answer"
   ]
  },
  {
   "cell_type": "markdown",
   "metadata": {},
   "source": [
    "print(\"***Python Program to Count the Frequency of Words Appearing in a String Using a Dictionary***\")\n",
    "print(\"_____________________________________________________________________________________________\")\n",
    "for t in range(1,3):\n",
    "    print(\"case :\", t )\n",
    "    val=input(\"Enter string:\")\n",
    "    list1=[]\n",
    "    list1=val.split()\n",
    "    print(list1)\n",
    "    count_word_freq=[list1.count(t) for t in list1] \n",
    "    print(dict(zip(list1,count_word_freq)))\n",
    "exit()"
   ]
  },
  {
   "cell_type": "markdown",
   "metadata": {},
   "source": [
    "11. X = [\"Feb\", \"Apr\", \"Mar\", \"May\", \"Jun\", \"Jul\", \"Aug\", \"Jan\"]. What will be output of following? \n",
    "    X[0:3] \n",
    "    X[2:8] \n",
    "    X[4:9] \n",
    "    X[1:7:2] \n",
    "    X[-1:-7] \n",
    "    X[-7:7] \n",
    "    X[-1:-8:-2] \n",
    "    X[:4] "
   ]
  },
  {
   "cell_type": "markdown",
   "metadata": {},
   "source": [
    "Answer"
   ]
  },
  {
   "cell_type": "markdown",
   "metadata": {},
   "source": [
    "X[0:3] output is ['Feb','Apr','Mar']\n",
    "X[2:8] output is ['Mar', 'May', 'Jun', 'Jul', 'Aug', 'Jan']\n",
    "X[4:9] output is ['Jun', 'Jul', 'Aug', 'Jan']\n",
    "X[1:7:2] output is ['Apr', 'May', 'Jul']\n",
    "X[-1:-7] output is []\n",
    "X[-7:7] output is ['Apr', 'Mar', 'May', 'Jun', 'Jul', 'Aug']\n",
    "X[-1:-8:-2] output is ['Jan', 'Jul', 'May', 'Apr']\n",
    "X[:4] output is ['Feb', 'Apr', 'Mar', 'May']"
   ]
  },
  {
   "cell_type": "markdown",
   "metadata": {},
   "source": [
    "12. Remove the correct number from the list X \n",
    "X = [ 9,2,8,4,5] \n",
    "X__?__ \n",
    "print (X) \n",
    "Output: [2,8,4,5] \n",
    "    1) .delete(9) \n",
    "    2) .rm(9) \n",
    "    3) .remove(9) "
   ]
  },
  {
   "cell_type": "markdown",
   "metadata": {},
   "source": [
    "Answer"
   ]
  },
  {
   "cell_type": "markdown",
   "metadata": {},
   "source": [
    "    3) .remove(9) "
   ]
  },
  {
   "cell_type": "markdown",
   "metadata": {},
   "source": [
    "13. p = 3 \n",
    "      q = 'hello! ' \n",
    "      print( q __?__ p)  \n",
    "      hello! hello! hello! \n",
    "      1) * \n",
    "      2) ** \n",
    "      3) + "
   ]
  },
  {
   "cell_type": "markdown",
   "metadata": {},
   "source": [
    "Answer"
   ]
  },
  {
   "cell_type": "markdown",
   "metadata": {},
   "source": [
    "      1) * "
   ]
  },
  {
   "cell_type": "markdown",
   "metadata": {},
   "source": [
    "14.  y = \"this is a random sentence\" \n",
    "print (y__?__) \n",
    "Output: THIS IS A RANDOM SENTENCE \n",
    "1) .upper() \n",
    "2) .upcase() \n",
    "3) .capitalize() "
   ]
  },
  {
   "cell_type": "markdown",
   "metadata": {},
   "source": [
    "Answer"
   ]
  },
  {
   "cell_type": "markdown",
   "metadata": {},
   "source": [
    "    1) .upper() "
   ]
  },
  {
   "cell_type": "markdown",
   "metadata": {},
   "source": [
    "15. p = True \n",
    "       q = True \n",
    "       r = 2 \n",
    "       r = 2.0 \n",
    "print(type(p)) \n",
    "print(type(q)) \n",
    "print(type(r)) \n",
    "print(type(s))"
   ]
  },
  {
   "cell_type": "markdown",
   "metadata": {},
   "source": [
    "Answer"
   ]
  },
  {
   "cell_type": "markdown",
   "metadata": {},
   "source": [
    "<class 'bool'>\n",
    "<class 'bool'>\n",
    "<class 'float'>\n",
    "\n",
    "print(type(s))-- NameError: name 's' is not defined"
   ]
  },
  {
   "cell_type": "markdown",
   "metadata": {},
   "source": [
    "16. What are the optional arguments to the function? \n",
    "function_1(R1, q, p=None, R2= None) \n",
    "1) q and R2 \n",
    "2) p and R2 \n",
    "3) p and R1 \n",
    "4) R1 and q  "
   ]
  },
  {
   "cell_type": "markdown",
   "metadata": {},
   "source": [
    "Answer"
   ]
  },
  {
   "cell_type": "markdown",
   "metadata": {},
   "source": [
    "    2) p and R2 "
   ]
  },
  {
   "cell_type": "markdown",
   "metadata": {},
   "source": [
    "17. Which command invokes method X() of the object p? \n",
    "1) X(p) \n",
    "2) p$x() \n",
    "3) X().p \n",
    "4) p.X() "
   ]
  },
  {
   "cell_type": "markdown",
   "metadata": {},
   "source": [
    "Answer"
   ]
  },
  {
   "cell_type": "markdown",
   "metadata": {},
   "source": [
    "4) p.X() "
   ]
  },
  {
   "cell_type": "markdown",
   "metadata": {},
   "source": [
    "18. X=4 , Y= 2 \n",
    "print(X % Y) \n",
    "print(X / Y) \n",
    "print(X // Y) \n",
    "print(Y % X) "
   ]
  },
  {
   "cell_type": "markdown",
   "metadata": {},
   "source": [
    "Answer"
   ]
  },
  {
   "cell_type": "markdown",
   "metadata": {},
   "source": [
    "print(X % Y) ---- 0\n",
    "print(X / Y) ---- 2.0\n",
    "print(X // Y) --- 2\n",
    "print(Y % X) ---- 2"
   ]
  },
  {
   "cell_type": "markdown",
   "metadata": {},
   "source": [
    "19. x = [[4, 1, 1], [5, 9, 0]] \n",
    " for i in __?__: \n",
    "     for j in  __?__: \n",
    "        ? \n",
    " Output:  4 \n",
    "   1 \n",
    "   1 \n",
    "   5 \n",
    "   9 \n",
    "   0 \n",
    "   \n",
    "   \n",
    "   \n",
    "   \n",
    "x = [[4, 1, 1], [5, 9, 0]] \n",
    " for i in __?__: \n",
    "     for j in  __?__: \n",
    "        ? \n",
    " Output:  4 5 \n",
    "   1 9 \n",
    "   1 0 \n",
    "   \n",
    "   \n",
    "   \n",
    "   \n",
    "   \n",
    "x = [[4, 1, 1], [5, 9, 0]] \n",
    " for i in __?__: \n",
    "     for j in  __?__: \n",
    "        ? \n",
    " Output:  4 1 1 5 9 0 \n",
    " \n",
    " \n",
    " \n",
    " \n",
    "x = [[4, 1, 1], [5, 9, 0]] \n",
    " for i in __?__: \n",
    "     for j in  __?__: \n",
    "        ? \n",
    " Output:  4 1 1 \n",
    "   5 9 0 "
   ]
  },
  {
   "cell_type": "markdown",
   "metadata": {},
   "source": [
    "Answer"
   ]
  },
  {
   "cell_type": "markdown",
   "metadata": {},
   "source": []
  },
  {
   "cell_type": "markdown",
   "metadata": {},
   "source": [
    "20. q = [10.62, 16.14, 6.45, 17.11] \n",
    " for __?__, z in enumerate (q) : \n",
    "     print( ‘Item ‘ + str( j ) + ‘  - ‘, str ( z )) \n",
    " Output:  Item 0 – 10.62 \n",
    "   Item 1 – 16.14 \n",
    "   Item 2 – 6.45 \n",
    "   Item 3 – 17.11 \n",
    "1) z \n",
    "2) i \n",
    "3) j \n",
    "4) x \n",
    "5) k \n",
    "6) y"
   ]
  },
  {
   "cell_type": "markdown",
   "metadata": {},
   "source": [
    "Answer"
   ]
  },
  {
   "cell_type": "markdown",
   "metadata": {},
   "source": [
    "    3) j "
   ]
  },
  {
   "cell_type": "markdown",
   "metadata": {},
   "source": [
    "21. Which of these about a dictionary is false? \n",
    "a) The values of a dictionary can be accessed using keys \n",
    "b) The keys of a dictionary can be accessed using values \n",
    "c) Dictionaries aren’t ordered \n",
    "d) Dictionaries are mutable "
   ]
  },
  {
   "cell_type": "markdown",
   "metadata": {},
   "source": [
    "Answer"
   ]
  },
  {
   "cell_type": "markdown",
   "metadata": {},
   "source": [
    "    b) The keys of a dictionary can be accessed using values "
   ]
  },
  {
   "cell_type": "markdown",
   "metadata": {},
   "source": [
    "22. What is the output of the following: \n",
    "D = dict()  \n",
    "for i in range (3):  \n",
    "    for j in range(2):  \n",
    "        D[i] = j  \n",
    "a. {0: 1, 1: 1, 2: 1} \n",
    "b. {1: 0, 1: 1, 1: 2} \n",
    "c. {0: 1, 1: 2, 2: 3} \n",
    "d. {1: 2, 1: 1, 1: 0}"
   ]
  },
  {
   "cell_type": "markdown",
   "metadata": {},
   "source": [
    "Answer"
   ]
  },
  {
   "cell_type": "markdown",
   "metadata": {},
   "source": [
    "a. {0: 1, 1: 1, 2: 1} "
   ]
  },
  {
   "cell_type": "markdown",
   "metadata": {},
   "source": [
    "23. You are writing a function that increments player score in a soccer game \n",
    "  If no value is specified for points, then point must start with 1 \n",
    "  If no value is specified for bonus, then bonus should be True \n",
    "  01   def increment_score ( bonus , score , points ): \n",
    "  To meet the first requirement line 01 must be change to \n",
    " def increment_score ( bonus , score , points = 1 ):           (True or False) \n",
    "To meet the second requirement line 01 must be change to \n",
    " def increment_score ( bonus = True , score , points = 1 ):   (True or False) \n",
    " Once a parameter is defined with default value, any parameter to the right must also be defined with default values:  (True or False) "
   ]
  },
  {
   "cell_type": "markdown",
   "metadata": {},
   "source": [
    "Answer"
   ]
  },
  {
   "cell_type": "markdown",
   "metadata": {},
   "source": [
    " def increment_score ( bonus , score , points = 1 ):           (True) \n",
    " def increment_score ( bonus = True , score , points = 1 ):   (True) \n",
    " Once a parameter is defined with default value, any parameter to the right must also be defined with default values:  (True) "
   ]
  },
  {
   "cell_type": "markdown",
   "metadata": {},
   "source": [
    "24. What will be output? \n",
    "  def avg ( x , y , z = 50 ): \n",
    " adding = x + y + z \n",
    " avg_value = adding / 3 \n",
    " return avg_value \n",
    "  y = avg ( x = 5 , y = 9 , z = 20 ) \n",
    "  print(y) "
   ]
  },
  {
   "cell_type": "markdown",
   "metadata": {},
   "source": [
    "Answer"
   ]
  },
  {
   "cell_type": "markdown",
   "metadata": {},
   "source": [
    "11.333333333333334"
   ]
  },
  {
   "cell_type": "markdown",
   "metadata": {},
   "source": [
    "25. What will be output? Describe it with reason and logic behind. Do multiple experiments with arguments / parameters to remove error, if occurs. \n",
    "def avg ( *opt_values , name ): \n",
    "  \n",
    " avg_value = sum (opt_values) / len(opt_values) \n",
    " print(‘name is: ’ + name + ‘Marks: ’ + str(avg_value)) \n",
    "avg ( 5 , 9 , 20, 34, 87, 112 , ‘Ali’ )"
   ]
  },
  {
   "cell_type": "markdown",
   "metadata": {},
   "source": [
    "Answer"
   ]
  },
  {
   "cell_type": "markdown",
   "metadata": {},
   "source": []
  },
  {
   "cell_type": "markdown",
   "metadata": {},
   "source": [
    "26. Final output is not required. Just take copy pencil, think and write the output of each line, write down the link between parameters and arguments. Remove one or two ** from other_info and observe the output. \n",
    "def display_result(winner, score, **other_info): \n",
    " print(\"The winner was \" + winner) \n",
    " print(\"The score was \" + score) \n",
    "  display_result(winner=“Manchester\", score=\"1-0\", overtime =\"yes\", injuries=\"none\")  "
   ]
  },
  {
   "cell_type": "markdown",
   "metadata": {},
   "source": [
    "Answer"
   ]
  },
  {
   "cell_type": "markdown",
   "metadata": {},
   "source": [
    "If we Remove either one or both * from other_info then the output will be \n",
    "TypeError: display_result() got an unexpected keyword argument 'overtime'\n",
    "\n",
    "If we don't remove two ** from other_info then the output will be:\n",
    "The winner was Manchester\n",
    "The score was 1-0"
   ]
  },
  {
   "cell_type": "markdown",
   "metadata": {},
   "source": [
    "27. The position of parameters and arguments is re-arranged. Just think and find the logic behind output or error. \n",
    "def display_result(winner, **other_info, score): \n",
    " print(\"The winner was \" + winner) \n",
    " print(\"The score was \" + score) \n",
    "display_result(winner=“Manchester\", overtime =\"yes\", injuries=\"none“ , score=\"1-0“ )  "
   ]
  },
  {
   "cell_type": "markdown",
   "metadata": {},
   "source": [
    "Answer"
   ]
  },
  {
   "cell_type": "markdown",
   "metadata": {},
   "source": []
  },
  {
   "cell_type": "markdown",
   "metadata": {},
   "source": [
    "28. What will be the output of the following Python expression if X=123? \n",
    " \n",
    "print(“%06d”%X) \n",
    "a) 123000 \n",
    "b) 000123 \n",
    "c) 000000123 \n",
    "d) 123000000"
   ]
  },
  {
   "cell_type": "markdown",
   "metadata": {},
   "source": [
    "Answer"
   ]
  },
  {
   "cell_type": "markdown",
   "metadata": {},
   "source": [
    "    b) 000123 "
   ]
  },
  {
   "cell_type": "markdown",
   "metadata": {},
   "source": [
    "29. What will be the output of the following Python expression if x=22.19? \n",
    "print(\"%5.2f\"%x) \n",
    "a) 22.1900 \n",
    "b) 22.00000 \n",
    "c) 22.19 \n",
    "d) 22.20 "
   ]
  },
  {
   "cell_type": "markdown",
   "metadata": {},
   "source": [
    "Answer"
   ]
  },
  {
   "cell_type": "markdown",
   "metadata": {},
   "source": [
    "    c) 22.19 "
   ]
  },
  {
   "cell_type": "markdown",
   "metadata": {},
   "source": [
    "30. What will be the output of the following Python code? \n",
    "'{0:f}, {1:2f}, {2:05.2f}'.format(1.23456, 1.23456, 1.23456) \n",
    "a) Error \n",
    "b) ‘1.234560, 1.22345, 1.23’ \n",
    "c) No output \n",
    "d) ‘1.234560, 1.234560, 01.23’"
   ]
  },
  {
   "cell_type": "markdown",
   "metadata": {},
   "source": [
    "Answer"
   ]
  },
  {
   "cell_type": "markdown",
   "metadata": {},
   "source": [
    "    b) ‘1.234560, 1.22345, 1.23’"
   ]
  },
  {
   "cell_type": "markdown",
   "metadata": {},
   "source": [
    "31. Write down the output of each line after each iterations. Do multiple experiments to change values \n",
    "i = 1 \n",
    "while False: \n",
    "    if i%2 == 0: \n",
    "        break \n",
    "    print(i) \n",
    "    i += 2 "
   ]
  },
  {
   "cell_type": "markdown",
   "metadata": {},
   "source": [
    "Answer"
   ]
  },
  {
   "cell_type": "markdown",
   "metadata": {},
   "source": []
  },
  {
   "cell_type": "markdown",
   "metadata": {},
   "source": [
    "32. Write down the output of each line after each iterations. Do multiple experiments to change values \n",
    "x = \"abcdef\" \n",
    "i = \"a\" \n",
    "while i in x: \n",
    "    x = x[:-1] \n",
    "    print(i, end = \" \") "
   ]
  },
  {
   "cell_type": "markdown",
   "metadata": {},
   "source": [
    "Answer"
   ]
  },
  {
   "cell_type": "markdown",
   "metadata": {},
   "source": [
    "a a a a a a "
   ]
  },
  {
   "cell_type": "markdown",
   "metadata": {},
   "source": [
    "33. Write down the output of each line after each iterations. Do multiple experiments to change values \n",
    "for i in ''.join(reversed(list('abcd'))): \n",
    "    print (i) "
   ]
  },
  {
   "cell_type": "markdown",
   "metadata": {},
   "source": [
    "Answer"
   ]
  },
  {
   "cell_type": "markdown",
   "metadata": {},
   "source": [
    "output will be:\n",
    "d\n",
    "c\n",
    "b\n",
    "a\n",
    "Explanation:\n",
    "The list() constructor returns a mutable sequence list of elements. The iterable argument is optional. You can provide any sequence or collection (such as a string, list, tuple, set, dictionary, etc). If no argument is supplied, an empty list is returned\n",
    "reverse() is an inbuilt method in Python programming language that reverses objects of list in place. Returns: The reverse() method does not return any value but reverse the given object from the list\n",
    "The join() is a string method which returns a string concatenated with the elements of an iterable. The join() method provides a flexible way to concatenate string. It concatenates each element of an iterable (such as list, string and tuple) to the string and returns the concatenated string."
   ]
  },
  {
   "cell_type": "markdown",
   "metadata": {},
   "source": [
    "34. Flow of the program. Write the output of each line after every iteration of ‘i’ \n",
    "for i in range(10): \n",
    "    if i == 5: \n",
    "        break \n",
    "    else: \n",
    "        print(i) \n",
    "else: \n",
    "    print(\"Here\")"
   ]
  },
  {
   "cell_type": "markdown",
   "metadata": {},
   "source": [
    "Answer"
   ]
  },
  {
   "cell_type": "markdown",
   "metadata": {},
   "source": [
    "for i in range(10):\n",
    "#To loop through a set of code a specified number of times, we can use the range() function,\n",
    "The range() function returns a sequence of numbers, starting from 0 by default, and increments by 1 (by default), and ends at a specified number.\n",
    "Note that range(10) is not the values of 0 to 10, but the values 0 to 9.\n",
    "    \n",
    "    \n",
    "    if i == 5: \n",
    "#check the condition if i is equal to 5 \n",
    "        break \n",
    "#breaks when i is equal to 5\n",
    "    else: \n",
    "        print(i) \n",
    "#print values 0 to 4\n",
    "else: \n",
    "    print(\"Here\")"
   ]
  },
  {
   "cell_type": "markdown",
   "metadata": {},
   "source": [
    "35. What is the output? And understand the functionality of lambda function \n",
    "y = 6 \n",
    "z = lambda x: x * y \n",
    "print (z(8)) "
   ]
  },
  {
   "cell_type": "markdown",
   "metadata": {},
   "source": [
    "Answer"
   ]
  },
  {
   "cell_type": "markdown",
   "metadata": {},
   "source": [
    "48"
   ]
  },
  {
   "cell_type": "markdown",
   "metadata": {},
   "source": [
    "36. Write output and give proper logic of whatever the output comes. \n",
    "i=0 \n",
    "def change(i): \n",
    "   i=i+1 \n",
    "   return i \n",
    "change(1) \n",
    "print(i) "
   ]
  },
  {
   "cell_type": "markdown",
   "metadata": {},
   "source": [
    "Answer"
   ]
  },
  {
   "cell_type": "markdown",
   "metadata": {},
   "source": [
    "0"
   ]
  },
  {
   "cell_type": "markdown",
   "metadata": {},
   "source": [
    "Question 37, 38, 39 are not given"
   ]
  },
  {
   "cell_type": "markdown",
   "metadata": {},
   "source": [
    "40. What will be output? Define this output clearly \n",
    "def change(one, *two): \n",
    "   print(type(two)) \n",
    "   print(two) \n",
    "change(1,2,3,4) "
   ]
  },
  {
   "cell_type": "markdown",
   "metadata": {},
   "source": [
    "Answer"
   ]
  },
  {
   "cell_type": "markdown",
   "metadata": {},
   "source": [
    "<class 'tuple'>\n",
    "(2, 3, 4)"
   ]
  },
  {
   "cell_type": "markdown",
   "metadata": {},
   "source": [
    "41. What will be output? Define this output clearly \n",
    "def find(a, **b): \n",
    "   print(type(b)) \n",
    "find('letters',A='1',B='2') "
   ]
  },
  {
   "cell_type": "markdown",
   "metadata": {},
   "source": [
    "Answer"
   ]
  },
  {
   "cell_type": "markdown",
   "metadata": {},
   "source": [
    "<class 'dict'>"
   ]
  },
  {
   "cell_type": "markdown",
   "metadata": {},
   "source": [
    "42. Write output and define each line’s output for each iteration of ‘i’ \n",
    "def foo(i, x=[]): \n",
    "    x.append(i) \n",
    "    return x \n",
    "for i in range(3): \n",
    "    print(foo(i)) "
   ]
  },
  {
   "cell_type": "markdown",
   "metadata": {},
   "source": [
    "Answer"
   ]
  },
  {
   "cell_type": "markdown",
   "metadata": {},
   "source": [
    "[0]\n",
    "[0, 1]\n",
    "[0, 1, 2]"
   ]
  },
  {
   "cell_type": "markdown",
   "metadata": {},
   "source": [
    "43. Evaluate the following Python arithmetic expression: and write which segment will execute first? (Brackets, Exponents, Multiplication, Addition / Subtraction, Left to right rule) \n",
    "(3*(1+2)**2-(2**2)*3)"
   ]
  },
  {
   "cell_type": "markdown",
   "metadata": {},
   "source": [
    "Answer"
   ]
  },
  {
   "cell_type": "markdown",
   "metadata": {},
   "source": [
    "(3*(1+2)**2-(2**2)*3)\n",
    "1. \tParentheses\n",
    "(3*3**2-4*3)\n",
    "2. \tExponent\n",
    "(3*9-4*3)\n",
    "3. Multiplication\n",
    "(27-12)\n",
    "4. Subtraction\n",
    "15\n",
    "\n",
    "15 is the answer"
   ]
  },
  {
   "cell_type": "markdown",
   "metadata": {},
   "source": [
    "44.You are creating a function that manipulates a number. The function has the following requirements: \n",
    " A float is passed into the function \n",
    " The function must take the absolute value of the float  \n",
    " Any decimal points after the integer must be removed \n",
    "  A. math.fmod(x) \n",
    "  B. math.frexp(x) \n",
    "  C. math.floor(x) \n",
    "  D. math.ceil(x) \n",
    "  E. math.fabs(x) "
   ]
  },
  {
   "cell_type": "markdown",
   "metadata": {},
   "source": [
    "Answer"
   ]
  },
  {
   "cell_type": "markdown",
   "metadata": {},
   "source": [
    "    E. math.fabs(x) "
   ]
  },
  {
   "cell_type": "markdown",
   "metadata": {},
   "source": [
    "45. You are writing code that generates a random integer with a minimum value of 5 and a maximum value of 11. \n",
    "Which two functions should you use? Each correct answer presents a complete solution. (Choose two.) \n",
    "A. random.randint(5, 12) \n",
    "B. random.randint(5, 11) \n",
    "C. random.randrange(5, 12, 1) \n",
    "D. random.randrange(5, 11, 1) "
   ]
  },
  {
   "cell_type": "markdown",
   "metadata": {},
   "source": [
    "Answer"
   ]
  },
  {
   "cell_type": "markdown",
   "metadata": {},
   "source": [
    "B. random.randint(5, 11)"
   ]
  },
  {
   "cell_type": "markdown",
   "metadata": {},
   "source": [
    "46. Write a program that receives marks from user and check the grade. \n",
    "  Marks greater than equal to 90 then A grade \n",
    "  Marks between 80 to 90, B grade \n",
    "  Marks between 70 to 80, C grade \n",
    "  Marks between 60 to 70, D grade \n",
    "  Marks less than equal to 60 then E grade "
   ]
  },
  {
   "cell_type": "markdown",
   "metadata": {},
   "source": [
    "Answer"
   ]
  },
  {
   "cell_type": "markdown",
   "metadata": {},
   "source": [
    "choice = False\n",
    "while True:\n",
    "    print(str.upper(\"***student grading system***\"))\n",
    "    print(\"____________________________\")\n",
    "    physics = float(input(\"Enter Marks Of Physics: \"))\n",
    "    english = float(input(\"Enter Marks Of English: \"))\n",
    "    math = float(input(\"Enter Marks Of Mathematics: \"))\n",
    "    computer = float(input(\"Enter Marks Of Computer: \"))\n",
    "    chemistry = float(input(\"Enter Marks Of Chemistry: \"))\n",
    "    average = float((physics + english + math + computer + chemistry)/5)\n",
    "    print(\"\\nYour average is : \",average)\n",
    "\n",
    "    if(average >= 90):\n",
    "        grade = 'A'\n",
    "    elif(average >= 80 and average < 90):\n",
    "        grade = 'B'\n",
    "    elif(average >= 70 and average < 80):\n",
    "        grade = 'C'\n",
    "    elif(average >= 60 and average < 70):\n",
    "        grade = 'D'\n",
    "    elif(average < 60):\n",
    "        grade = 'E'\n",
    "\n",
    "    if(average >= 60):\n",
    "        print(\"Congratulations, Your Grade is \",grade,\"\\n\\n\")\n",
    "        print(\"____________________________________\")\n",
    "    elif(average < 60):\n",
    "        print(\"Better luck next time. Your grade is: \",grade,\"\\n\\n\")\n",
    "        print(\"________________________________________\")\n",
    "        \n",
    "        \n",
    "    opt=str(input(\"Do you want to continue (y/n):\"))\n",
    "    print(\"_______________________________\")\n",
    "    print(\"\\n\\n\") \n",
    "    if(opt=='y' or opt=='Y'):\n",
    "        choice==True\n",
    "    if(opt == 'n' or opt =='N'):\n",
    "        print(\"\\nThank you and hope to see you again :)\")\n",
    "        print(\"_____________________________________\")\n",
    "        break    \n",
    "exit()"
   ]
  },
  {
   "cell_type": "markdown",
   "metadata": {},
   "source": []
  },
  {
   "cell_type": "code",
   "execution_count": null,
   "metadata": {},
   "outputs": [],
   "source": []
  }
 ],
 "metadata": {
  "kernelspec": {
   "display_name": "Python 3",
   "language": "python",
   "name": "python3"
  },
  "language_info": {
   "codemirror_mode": {
    "name": "ipython",
    "version": 3
   },
   "file_extension": ".py",
   "mimetype": "text/x-python",
   "name": "python",
   "nbconvert_exporter": "python",
   "pygments_lexer": "ipython3",
   "version": "3.7.3"
  }
 },
 "nbformat": 4,
 "nbformat_minor": 2
}
